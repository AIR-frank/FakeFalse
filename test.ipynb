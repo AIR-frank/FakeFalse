{
 "cells": [
  {
   "cell_type": "code",
   "execution_count": 99,
   "metadata": {},
   "outputs": [
    {
     "name": "stdout",
     "output_type": "stream",
     "text": [
      "PyTorch 版本 2.5.0+cu121\n",
      "ONNX 版本 1.17.0\n",
      "ONNX Runtime 版本 1.19.2\n"
     ]
    }
   ],
   "source": [
    "import torch\n",
    "print('PyTorch 版本', torch.__version__)\n",
    "import onnx\n",
    "print('ONNX 版本', onnx.__version__)\n",
    "import onnxruntime as ort\n",
    "print('ONNX Runtime 版本', ort.__version__)\n",
    "\n",
    "import onnxruntime\n",
    "import numpy as np\n",
    "import torch\n",
    "import torch.nn.functional as F\n",
    "\n",
    "import pandas as pd\n"
   ]
  },
  {
   "cell_type": "code",
   "execution_count": 100,
   "metadata": {},
   "outputs": [],
   "source": [
    "model_path = \"/root/model/bird-species-classifier/onnx/model.onnx\" \n",
    "ort_session = onnxruntime.InferenceSession(model_path)\n",
    "x = torch.randn(1, 3, 260, 260).numpy()"
   ]
  },
  {
   "cell_type": "code",
   "execution_count": 101,
   "metadata": {},
   "outputs": [],
   "source": [
    "import onnx \n",
    "model = onnx.load(model_path)"
   ]
  },
  {
   "cell_type": "code",
   "execution_count": 102,
   "metadata": {},
   "outputs": [],
   "source": [
    "# for input in model.graph.input:\n",
    "#     print(f\"Name: {input.name}\")\n",
    "#     print(f\"Shape: {[dim.dim_value for dim in input.type.tensor_type.shape.dim]}\")\n",
    "#     print(f\"Dtype: {input.type.tensor_type.elem_type}\")\n",
    "# for output in model.graph.output:\n",
    "#     print(f\"Name: {output.name}\")\n",
    "#     print(f\"Shape: {[dim.dim_value for dim in output.type.tensor_type.shape.dim]}\")\n",
    "#     print(f\"Dtype: {output.type.tensor_type.elem_type}\")"
   ]
  },
  {
   "cell_type": "code",
   "execution_count": 103,
   "metadata": {},
   "outputs": [],
   "source": [
    "# # onnx runtime 输入\n",
    "# ort_inputs = {'pixel_values': x}\n",
    "\n",
    "# # onnx runtime 输出\n",
    "# ort_output = ort_session.run(['logits'], ort_inputs)\n",
    "# # print(ort_output[0])\n",
    "\n"
   ]
  },
  {
   "cell_type": "code",
   "execution_count": 104,
   "metadata": {},
   "outputs": [],
   "source": [
    "import json\n",
    "id2lable_file = \"id2label.json\"\n",
    "\n",
    "with open(id2lable_file, \"r\") as f:\n",
    "    id2lable = json.load(f)\n",
    "# print(id2lable)"
   ]
  },
  {
   "cell_type": "code",
   "execution_count": 105,
   "metadata": {},
   "outputs": [
    {
     "name": "stdout",
     "output_type": "stream",
     "text": [
      "SNOWY OWL\n"
     ]
    }
   ],
   "source": [
    "index = np.argmax(ort_output)\n",
    "print(id2lable[str(index)])"
   ]
  },
  {
   "cell_type": "code",
   "execution_count": 106,
   "metadata": {},
   "outputs": [],
   "source": [
    "img_path = 'test.jpg'\n",
    "# 用 pillow 载入\n",
    "from PIL import Image\n",
    "img_pil = Image.open(img_path)\n"
   ]
  },
  {
   "cell_type": "code",
   "execution_count": 107,
   "metadata": {},
   "outputs": [],
   "source": [
    "from torchvision import transforms\n",
    "\n",
    "# 测试集图像预处理-RCTN：缩放裁剪、转 Tensor、归一化\n",
    "test_transform = transforms.Compose([transforms.Resize(260),\n",
    "                                     transforms.CenterCrop(260),\n",
    "                                     transforms.ToTensor(),\n",
    "                                     transforms.Normalize(\n",
    "                                         mean=[0.485, 0.456, 0.406], \n",
    "                                         std=[0.47853944, 0.4732864, 0.47434163])\n",
    "                                    ])"
   ]
  },
  {
   "cell_type": "code",
   "execution_count": 108,
   "metadata": {},
   "outputs": [
    {
     "data": {
      "text/plain": [
       "torch.Size([3, 260, 260])"
      ]
     },
     "execution_count": 108,
     "metadata": {},
     "output_type": "execute_result"
    }
   ],
   "source": [
    "input_img = test_transform(img_pil)\n",
    "input_img.shape\n"
   ]
  },
  {
   "cell_type": "code",
   "execution_count": 109,
   "metadata": {},
   "outputs": [
    {
     "data": {
      "text/plain": [
       "(1, 3, 260, 260)"
      ]
     },
     "execution_count": 109,
     "metadata": {},
     "output_type": "execute_result"
    }
   ],
   "source": [
    "input_tensor = input_img.unsqueeze(0).numpy()\n",
    "input_tensor.shape"
   ]
  },
  {
   "cell_type": "code",
   "execution_count": 111,
   "metadata": {},
   "outputs": [
    {
     "name": "stdout",
     "output_type": "stream",
     "text": [
      "BLUE MALKOHA\n"
     ]
    }
   ],
   "source": [
    "# onnx runtime 输入\n",
    "ort_inputs = {'pixel_values': input_tensor}\n",
    "\n",
    "# onnx runtime 输出\n",
    "ort_output = ort_session.run(['logits'], ort_inputs)\n",
    "index = np.argmax(ort_output)\n",
    "print(id2lable[str(index)])\n",
    "\n"
   ]
  }
 ],
 "metadata": {
  "kernelspec": {
   "display_name": "bird",
   "language": "python",
   "name": "python3"
  },
  "language_info": {
   "codemirror_mode": {
    "name": "ipython",
    "version": 3
   },
   "file_extension": ".py",
   "mimetype": "text/x-python",
   "name": "python",
   "nbconvert_exporter": "python",
   "pygments_lexer": "ipython3",
   "version": "3.10.0"
  }
 },
 "nbformat": 4,
 "nbformat_minor": 2
}
